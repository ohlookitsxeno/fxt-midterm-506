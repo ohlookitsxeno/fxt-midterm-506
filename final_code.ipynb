{
 "cells": [
  {
   "cell_type": "markdown",
   "metadata": {},
   "source": [
    "# Imports/Libraries\n"
   ]
  },
  {
   "cell_type": "code",
   "execution_count": 1,
   "metadata": {},
   "outputs": [],
   "source": [
    "import pandas as pd\n",
    "import seaborn as sns\n",
    "from os.path import exists\n",
    "import matplotlib.pyplot as plt\n",
    "from sklearn.model_selection import train_test_split\n",
    "from sklearn.metrics import accuracy_score, confusion_matrix\n",
    "from sklearn.preprocessing import LabelEncoder\n",
    "from sklearn.preprocessing import StandardScaler\n",
    "from sklearn.feature_extraction.text import CountVectorizer\n",
    "import cudf\n",
    "from nltk.sentiment.vader import SentimentIntensityAnalyzer\n",
    "from joblib import Parallel, delayed\n",
    "import numpy as np\n",
    "from tqdm import tqdm\n",
    "import datetime\n",
    "import xgboost as xgb"
   ]
  },
  {
   "cell_type": "markdown",
   "metadata": {},
   "source": [
    "# Loading the Files\n",
    "\n",
    "Download the csv files into the `data/` directory."
   ]
  },
  {
   "cell_type": "code",
   "execution_count": 2,
   "metadata": {},
   "outputs": [
    {
     "name": "stdout",
     "output_type": "stream",
     "text": [
      "train.csv shape is  (1697533, 9)\n",
      "test.csv shape is  (212192, 2)\n",
      "\n",
      "        Id   ProductId          UserId  HelpfulnessNumerator  \\\n",
      "0   914403  B0009W5KHM   AV6QDP8Q0ONK4                     2   \n",
      "1   354887  6303079709  A2I8RXJN80A2D2                     0   \n",
      "2  1407653  B004H0M2XC  A3FHV3RV8Z12E6                     0   \n",
      "3  1377458  B003ZJ9536  A12VLTA3ZHVPUY                     1   \n",
      "4   475323  630574453X  A13NM1PES9OXVN                     2   \n",
      "\n",
      "   HelpfulnessDenominator        Time  \\\n",
      "0                       2  1341014400   \n",
      "1                       0  1168819200   \n",
      "2                       0  1386201600   \n",
      "3                       1  1348704000   \n",
      "4                       3   970012800   \n",
      "\n",
      "                                         Summary  \\\n",
      "0                                  GOOD FUN FILM   \n",
      "1                                   Movie Review   \n",
      "2             When is it a good time to Consent?   \n",
      "3                                          TRUTH   \n",
      "4  Intelligent and bittersweet -- stays with you   \n",
      "\n",
      "                                                Text  Score  \n",
      "0  While most straight to DVD films are not worth...    5.0  \n",
      "1  I have wanted this one for sometime, also.  I ...    5.0  \n",
      "2  Actually this was a pretty darn good indie fil...    4.0  \n",
      "3  Episodes 37 to 72 of the series press on in a ...    5.0  \n",
      "4  I was really impressed with this movie, but wa...    3.0  \n",
      "\n",
      "        Id  Score\n",
      "0  1323432    NaN\n",
      "1  1137299    NaN\n",
      "2  1459366    NaN\n",
      "3   931601    NaN\n",
      "4  1311995    NaN\n",
      "\n",
      "                 Id  HelpfulnessNumerator  HelpfulnessDenominator  \\\n",
      "count  1.697533e+06          1.697533e+06            1.697533e+06   \n",
      "mean   8.487660e+05          3.569048e+00            5.301422e+00   \n",
      "std    4.900357e+05          1.727883e+01            2.024445e+01   \n",
      "min    0.000000e+00          0.000000e+00            0.000000e+00   \n",
      "25%    4.243830e+05          0.000000e+00            0.000000e+00   \n",
      "50%    8.487660e+05          1.000000e+00            1.000000e+00   \n",
      "75%    1.273149e+06          3.000000e+00            5.000000e+00   \n",
      "max    1.697532e+06          6.084000e+03            6.510000e+03   \n",
      "\n",
      "               Time         Score  \n",
      "count  1.697533e+06  1.485341e+06  \n",
      "mean   1.262422e+09  4.110517e+00  \n",
      "std    1.289277e+08  1.197651e+00  \n",
      "min    8.793792e+08  1.000000e+00  \n",
      "25%    1.164413e+09  4.000000e+00  \n",
      "50%    1.307491e+09  5.000000e+00  \n",
      "75%    1.373242e+09  5.000000e+00  \n",
      "max    1.406074e+09  5.000000e+00  \n"
     ]
    },
    {
     "data": {
      "image/png": "[encoded data removed]",
      "text/plain": [
       "<Figure size 640x480 with 1 Axes>"
      ]
     },
     "metadata": {},
     "output_type": "display_data"
    },
    {
     "name": "stdout",
     "output_type": "stream",
     "text": [
      "\n",
      "EVERYTHING IS PROPERLY SET UP! YOU ARE READY TO START\n"
     ]
    }
   ],
   "source": [
    "trainingSet = pd.read_csv(\"./data/train.csv\")\n",
    "testingSet = pd.read_csv(\"./data/test.csv\")\n",
    "\n",
    "print(\"train.csv shape is \", trainingSet.shape)\n",
    "print(\"test.csv shape is \", testingSet.shape)\n",
    "\n",
    "print()\n",
    "\n",
    "print(trainingSet.head())\n",
    "print()\n",
    "print(testingSet.head())\n",
    "\n",
    "print()\n",
    "\n",
    "print(trainingSet.describe())\n",
    "\n",
    "trainingSet['Score'].value_counts().plot(kind='bar', legend=True, alpha=.5)\n",
    "plt.show()\n",
    "\n",
    "print()\n",
    "print(\"EVERYTHING IS PROPERLY SET UP! YOU ARE READY TO START\")"
   ]
  },
  {
   "cell_type": "markdown",
   "metadata": {},
   "source": [
    "# Adding Features"
   ]
  },
  {
   "cell_type": "code",
   "execution_count": 3,
   "metadata": {},
   "outputs": [
    {
     "name": "stdout",
     "output_type": "stream",
     "text": [
      "Column: Id, Data Type: int64\n",
      "Column: ProductId, Data Type: object\n",
      "Column: UserId, Data Type: object\n",
      "Column: HelpfulnessNumerator, Data Type: int64\n",
      "Column: HelpfulnessDenominator, Data Type: int64\n",
      "Column: Time, Data Type: int64\n",
      "Column: Summary, Data Type: object\n",
      "Column: Text, Data Type: object\n",
      "Column: Score, Data Type: float64\n",
      "getting pretentious\n",
      "pretentious now this is peak\n",
      "starting summary sentiment\n"
     ]
    },
    {
     "name": "stderr",
     "output_type": "stream",
     "text": [
      "Processing VADER Sentiment: 100%|██████████| 1697533/1697533 [00:12<00:00, 138432.64it/s]\n"
     ]
    },
    {
     "name": "stdout",
     "output_type": "stream",
     "text": [
      "starting text sentiment\n"
     ]
    },
    {
     "name": "stderr",
     "output_type": "stream",
     "text": [
      "Processing VADER Sentiment: 100%|██████████| 1697533/1697533 [02:51<00:00, 9888.71it/s] \n"
     ]
    },
    {
     "name": "stdout",
     "output_type": "stream",
     "text": [
      "Column: Id, Data Type: int64\n",
      "Column: ProductId, Data Type: float64\n",
      "Column: UserId, Data Type: float64\n",
      "Column: HelpfulnessNumerator, Data Type: float64\n",
      "Column: HelpfulnessDenominator, Data Type: float64\n",
      "Column: Time, Data Type: float64\n",
      "Column: Score, Data Type: float64\n",
      "Column: Helpfulness, Data Type: float64\n",
      "Column: day, Data Type: float64\n",
      "Column: is_weekend, Data Type: float64\n",
      "Column: hour, Data Type: float64\n",
      "Column: words, Data Type: float64\n",
      "Column: wordlengths, Data Type: float64\n",
      "Column: exclamations, Data Type: float64\n",
      "Column: questions, Data Type: float64\n",
      "Column: Pretentiousness, Data Type: float64\n",
      "Column: summ_pos, Data Type: float64\n",
      "Column: summ_neg, Data Type: float64\n",
      "Column: summ_neu, Data Type: float64\n",
      "Column: summ_compound, Data Type: float64\n",
      "Column: text_pos, Data Type: float64\n",
      "Column: text_neg, Data Type: float64\n",
      "Column: text_neu, Data Type: float64\n",
      "Column: text_compound, Data Type: float64\n",
      "Column: combined_sentiment, Data Type: float64\n",
      "Column: pos_neg_ratio, Data Type: float64\n",
      "Column: pretentious_sentiment, Data Type: float64\n",
      "Column: helpful_sentiment, Data Type: float64\n",
      "Column: excitement, Data Type: float64\n",
      "Column: sent_length, Data Type: float64\n"
     ]
    }
   ],
   "source": [
    "def preprocess(df):\n",
    "    # This is where you can do all your feature extraction\n",
    "\n",
    "    for col_name, dtype in df.dtypes.items():\n",
    "        print(f\"Column: {col_name}, Data Type: {dtype}\")\n",
    "\n",
    "    df['Helpfulness'] = df['HelpfulnessNumerator'] / (df['HelpfulnessDenominator'] + 1)\n",
    "    df['Helpfulness'] = df['Helpfulness'].fillna(0)\n",
    "\n",
    "    df['UserId']  = LabelEncoder().fit_transform(df['UserId'])\n",
    "    df['ProductId'] = LabelEncoder().fit_transform(df['ProductId'])\n",
    "\n",
    "    df['day'] = df['Time'].apply(lambda x: datetime.datetime.fromtimestamp(x).weekday())\n",
    "    df['is_weekend'] = df['day'].apply(lambda x: 1 if x >= 5 else 0)\n",
    "    df['hour'] = df['Time'].apply(lambda x: datetime.datetime.fromtimestamp(x).hour)\n",
    "\n",
    "    df['words'] = df['Text'].apply(lambda x: len(str(x).split()))\n",
    "    df['wordlengths'] = df['Text'].apply(lambda x: np.mean([len(word) for word in str(x).split()]))\n",
    "    df['exclamations'] = df['Text'].apply(lambda x: str(x).count('!'))\n",
    "    df['questions'] = df['Text'].apply(lambda x: str(x).count('?'))\n",
    "\n",
    "    print(\"getting pretentious\")\n",
    "    pretentious= [\"shot\", \"composition\", \"cinematography\", \"soundtrack\", \"direction\", \"color\", \"grading\", \"mixing\", \"mastering\", \n",
    "                  \"adr\", \"opus\", \"kino\", \"bloated\", \"overwrought\", \"pedantic\", \"kafkaesque\", \"objectively\", \"clich\", \"nonetheless\", \n",
    "                  \"protagonist\", \"unoriginal\", \"derivative\", \"juxtaposition\", \"symbolism\", \"spectacle\", \"motif\", \"visual language\", \n",
    "                  \"aesthetic\", \"pathos\", \"allegory\", \"postmodern\", \"opaque\", \"uninspired\", \"thematically\", \"impressionistic\", \"deconstruction\", \n",
    "                  \"visceral\", \"macabre\", \"idiosyncratic\", \"guttural\", \"trite\", \"ambiguity\", \"gratuitous\", \"convoluted\", \"existential\", \n",
    "                  \"moralizing\", \"cacophony\", \"stylized\", \"hauntingly beautiful\", \"dreamlike\", \"contrived\", \"sophomoric\", \"overindulgent\", \n",
    "                  \"understated\", \"plodding\", \"ornate\", \"brevity\", \"satirical\", \"cathartic\", \"overstimulated\", \"pontifical\", \"cerebral\", \n",
    "                  \"hyperbolic\", \"monolithic\", \"clumsy metaphor\", \"incoherent narrative\", \"emblematic\", \"endemic clichés\", \"self-indulgent\", \n",
    "                  \"dystopian\", \"pretentious dialogue\", \"ill-conceived\"]\n",
    "    vectorizer = CountVectorizer(vocabulary=pretentious)\n",
    "\n",
    "    word_counts = vectorizer.fit_transform(df['Text'].fillna(''))\n",
    "\n",
    "    word_counts_df = pd.DataFrame(word_counts.toarray(), columns=vectorizer.get_feature_names_out())\n",
    "    df['Pretentiousness'] = word_counts_df.sum(axis=1)\n",
    "    print(\"pretentious now this is peak\")\n",
    "\n",
    "    analyzer = SentimentIntensityAnalyzer()\n",
    "    \n",
    "    def vader_scores(text):\n",
    "        scores = analyzer.polarity_scores(text)\n",
    "        return scores['pos'], scores['neg'], scores['neu'], scores['compound']\n",
    "    \n",
    "    print(\"starting summary sentiment\")\n",
    "    summsent = Parallel(n_jobs=-1)(delayed(vader_scores)(text) for text in tqdm(df['Summary'].fillna(''), desc=\"Processing VADER Sentiment\"))\n",
    "    df[['summ_pos', 'summ_neg', 'summ_neu', 'summ_compound']] = pd.DataFrame(summsent, index=df.index)\n",
    "\n",
    "    print(\"starting text sentiment\")\n",
    "    textsent = Parallel(n_jobs=-1)(delayed(vader_scores)(text) for text in tqdm(df['Text'].fillna(''), desc=\"Processing VADER Sentiment\"))\n",
    "    df[['text_pos', 'text_neg', 'text_neu', 'text_compound']] = pd.DataFrame(textsent, index=df.index)\n",
    "\n",
    "    df['combined_sentiment'] = (0.7 * df['text_compound'] + 0.3 * df['summ_compound'])\n",
    "    df['pos_neg_ratio'] = df['text_pos'] / (df['text_neg'] + 0.01)\n",
    "    df['pretentious_sentiment'] = df['Pretentiousness'] * df['text_compound']\n",
    "    df['helpful_sentiment'] = df['Helpfulness'] * df['combined_sentiment']\n",
    "    df['excitement'] = df['text_compound'] * df['exclamations']\n",
    "    df['sent_length'] = df['text_compound'] * df['words']\n",
    "\n",
    "    numerical_cols = trainingSet.select_dtypes(include=['float64', 'int64']).columns.drop('Id').drop('Score')\n",
    "    scaler = StandardScaler()\n",
    "    trainingSet[numerical_cols] = scaler.fit_transform(trainingSet[numerical_cols])\n",
    "\n",
    "    return df.drop(columns=['Summary', 'Text'])\n",
    "\n",
    "def postprocess(xtrain, xtest, ytrain, xsub):\n",
    "     xtrain, xtest, ytrain, xsub = post_averages(xtrain, xtest, ytrain, xsub)\n",
    "     #xtrain, xtest, ytrain, xsub = post_summarylsa(xtrain, xtest, ytrain, xsub)\n",
    "     #xtrain, xtest, ytrain, xsub = post_textlsa(xtrain, xtest, ytrain, xsub)\n",
    "     return xtrain, xtest, ytrain, xsub\n",
    "\n",
    "def post_averages(xtrain, xtest, ytrain, xsub):\n",
    "    xtrain = xtrain.copy()\n",
    "    xtrain['Score'] = ytrain\n",
    "\n",
    "    product_avg_score = xtrain.groupby('ProductId', as_index=False)['Score'].mean()\n",
    "    product_avg_score = product_avg_score.rename(columns={'Score': 'Product_Avg_Score'})\n",
    "\n",
    "    product_avg_help = xtrain.groupby('ProductId', as_index=False)['Helpfulness'].mean()\n",
    "    product_avg_help = product_avg_help.rename(columns={'Helpfulness': 'Product_Avg_Help'})\n",
    "\n",
    "    product_avg_sent = xtrain.groupby('ProductId', as_index=False)['text_compound'].mean()\n",
    "    product_avg_sent = product_avg_sent.rename(columns={'text_compound': 'Product_Avg_Sent'})\n",
    "\n",
    "    user_avg_score = xtrain.groupby('UserId', as_index=False)['Score'].mean()\n",
    "    user_avg_score = user_avg_score.rename(columns={'Score': 'User_Avg_Score'})\n",
    "\n",
    "    user_avg_help = xtrain.groupby('UserId', as_index=False)['Helpfulness'].mean()\n",
    "    user_avg_help = user_avg_help.rename(columns={'Helpfulness': 'User_Avg_Help'}) \n",
    "\n",
    "    user_avg_sent = xtrain.groupby('UserId', as_index=False)['text_compound'].mean()\n",
    "    user_avg_sent = user_avg_sent.rename(columns={'text_compound': 'User_Avg_Sent'})  \n",
    "\n",
    "    xtrain = xtrain.drop(columns=['Score']).merge(product_avg_score, on='ProductId', how='left') \\\n",
    "        .merge(user_avg_score, on='UserId', how='left') \\\n",
    "        .merge(user_avg_help, on='UserId', how='left') \\\n",
    "        .merge(user_avg_sent, on='UserId', how='left') \\\n",
    "        .merge(product_avg_help, on='ProductId', how='left') \\\n",
    "        .merge(product_avg_sent, on='ProductId', how='left')\n",
    "\n",
    "    xtest = xtest.merge(product_avg_score, on='ProductId', how='left') \\\n",
    "        .merge(user_avg_score, on='UserId', how='left') \\\n",
    "        .merge(user_avg_help, on='UserId', how='left') \\\n",
    "        .merge(user_avg_sent, on='UserId', how='left') \\\n",
    "        .merge(product_avg_help, on='ProductId', how='left') \\\n",
    "        .merge(product_avg_sent, on='ProductId', how='left')\n",
    "\n",
    "    xsub = xsub.merge(product_avg_score, on='ProductId', how='left') \\\n",
    "        .merge(user_avg_score, on='UserId', how='left') \\\n",
    "        .merge(user_avg_help, on='UserId', how='left') \\\n",
    "        .merge(user_avg_sent, on='UserId', how='left') \\\n",
    "        .merge(product_avg_help, on='ProductId', how='left') \\\n",
    "        .merge(product_avg_sent, on='ProductId', how='left')\n",
    "\n",
    "    xtest['Product_Avg_Score'] = xtest['Product_Avg_Score'].fillna(product_avg_score['Product_Avg_Score'].mean())\n",
    "    xsub['Product_Avg_Score'] = xsub['Product_Avg_Score'].fillna(product_avg_score['Product_Avg_Score'].mean())\n",
    "\n",
    "    xtest['Product_Avg_Help'] = xtest['Product_Avg_Help'].fillna(product_avg_help['Product_Avg_Help'].mean())\n",
    "    xsub['Product_Avg_Help'] = xsub['Product_Avg_Help'].fillna(product_avg_help['Product_Avg_Help'].mean())\n",
    "\n",
    "    xtest['Product_Avg_Sent'] = xtest['Product_Avg_Sent'].fillna(product_avg_sent['Product_Avg_Sent'].mean())\n",
    "    xsub['Product_Avg_Sent'] = xsub['Product_Avg_Sent'].fillna(product_avg_sent['Product_Avg_Sent'].mean())\n",
    "\n",
    "    xtest['User_Avg_Score'] = xtest['User_Avg_Score'].fillna(user_avg_score['User_Avg_Score'].mean())\n",
    "    xsub['User_Avg_Score'] = xsub['User_Avg_Score'].fillna(user_avg_score['User_Avg_Score'].mean())\n",
    "\n",
    "    xtest['User_Avg_Help'] = xtest['User_Avg_Help'].fillna(user_avg_help['User_Avg_Help'].mean())\n",
    "    xsub['User_Avg_Help'] = xsub['User_Avg_Help'].fillna(user_avg_help['User_Avg_Help'].mean())\n",
    "\n",
    "    xtest['User_Avg_Sent'] = xtest['User_Avg_Sent'].fillna(user_avg_sent['User_Avg_Sent'].mean())\n",
    "    xsub['User_Avg_Sent'] = xsub['User_Avg_Sent'].fillna(user_avg_sent['User_Avg_Sent'].mean())\n",
    "\n",
    "    xtrain['Product_helpful_sentiment'] = xtrain['Product_Avg_Help'] * xtrain['Product_Avg_Sent']\n",
    "    xtest['Product_helpful_sentiment'] = xtest['Product_Avg_Help'] * xtest['Product_Avg_Sent']\n",
    "    xsub['Product_helpful_sentiment'] = xsub['Product_Avg_Help'] * xsub['Product_Avg_Sent']\n",
    "\n",
    "    xtrain['user_sentiment_deviation'] = (xtrain['text_compound'] - xtrain['User_Avg_Sent']).abs()\n",
    "\n",
    "    xtest['user_sentiment_deviation'] = (xtest['text_compound'] - xtest['User_Avg_Sent']).abs()\n",
    "\n",
    "    xsub['user_sentiment_deviation'] = (xsub['text_compound'] - xsub['User_Avg_Sent']).abs()\n",
    "\n",
    "    xtest['user_sentiment_deviation'] = xtest['user_sentiment_deviation'].fillna(xtest['user_sentiment_deviation'].mean())\n",
    "    xsub['user_sentiment_deviation'] = xsub['user_sentiment_deviation'].fillna(xsub['user_sentiment_deviation'].mean())\n",
    "\n",
    "    return xtrain, xtest, ytrain, xsub\n",
    "\n",
    "\n",
    "# Load the feature extracted files if they've already been generated\n",
    "if exists('./data/X_train.csv'):\n",
    "    X_train = pd.read_csv(\"./data/X_train.csv\")\n",
    "if exists('./data/X_submission.csv'):\n",
    "    X_submission = pd.read_csv(\"./data/X_submission.csv\")\n",
    "\n",
    "else:\n",
    "    # Process the DataFrame\n",
    "    train = preprocess(trainingSet)\n",
    "\n",
    "    # Merge on Id so that the submission set can have feature columns as well\n",
    "    X_submission = pd.merge(train, testingSet, left_on='Id', right_on='Id')\n",
    "    X_submission = X_submission.drop(columns=['Score_x'])\n",
    "    X_submission = X_submission.rename(columns={'Score_y': 'Score'})\n",
    "\n",
    "    # The training set is where the score is not null\n",
    "    X_train =  train[train['Score'].notnull()]\n",
    "\n",
    "    X_submission.to_csv(\"./data/X_submission.csv\", index=False)\n",
    "    X_train.to_csv(\"./data/X_train.csv\", index=False)\n",
    "\n",
    "for col_name, dtype in X_train.dtypes.items():\n",
    "        print(f\"Column: {col_name}, Data Type: {dtype}\")"
   ]
  },
  {
   "cell_type": "markdown",
   "metadata": {},
   "source": [
    "# Sample + Split into training and testing set"
   ]
  },
  {
   "cell_type": "code",
   "execution_count": 4,
   "metadata": {},
   "outputs": [],
   "source": [
    "# Split training set into training and testing set\n",
    "\n",
    "#X_sample = X_train.sample(frac=0.1, random_state=0)\n",
    "X_sample = X_train.copy()\n",
    "X_train, X_test, Y_train, Y_test = train_test_split(\n",
    "    X_sample.drop(columns=['Score']),\n",
    "    X_sample['Score'],\n",
    "    test_size=1/8.0,\n",
    "    random_state=0\n",
    ")\n",
    "#calculate averages post-split to ensure no cheating\n",
    "X_train, X_test, Y_train, X_submission = postprocess(X_train, X_test, Y_train, X_submission)"
   ]
  },
  {
   "cell_type": "markdown",
   "metadata": {},
   "source": [
    "# Feature Selection"
   ]
  },
  {
   "cell_type": "code",
   "execution_count": 5,
   "metadata": {},
   "outputs": [
    {
     "name": "stdout",
     "output_type": "stream",
     "text": [
      "Product_helpful_sentiment    0.001779\n",
      "wordlengths                  0.001761\n",
      "user_sentiment_deviation     0.001701\n",
      "summ_neu                     0.001628\n",
      "Product_Avg_Help             0.001300\n",
      "summ_pos                     0.001212\n",
      "Pretentiousness              0.001135\n",
      "day                          0.001104\n",
      "User_Avg_Score               0.001100\n",
      "exclamations                 0.001044\n",
      "text_pos                     0.000979\n",
      "hour                         0.000943\n",
      "User_Avg_Help                0.000899\n",
      "User_Avg_Sent                0.000895\n",
      "text_neg                     0.000869\n",
      "sent_length                  0.000843\n",
      "summ_compound                0.000810\n",
      "text_compound                0.000779\n",
      "Product_Avg_Sent             0.000692\n",
      "is_weekend                   0.000671\n",
      "summ_neg                     0.000624\n",
      "text_neu                     0.000599\n",
      "Product_Avg_Score            0.000593\n",
      "helpful_sentiment            0.000582\n",
      "combined_sentiment           0.000507\n",
      "HelpfulnessNumerator         0.000483\n",
      "pos_neg_ratio                0.000444\n",
      "excitement                   0.000400\n",
      "HelpfulnessDenominator       0.000297\n",
      "Helpfulness                  0.000255\n",
      "pretentious_sentiment        0.000168\n",
      "words                        0.000141\n",
      "dtype: float64\n"
     ]
    }
   ],
   "source": [
    "features = ['HelpfulnessNumerator','HelpfulnessDenominator', 'Helpfulness', \n",
    "            'Product_Avg_Score', 'User_Avg_Score', 'Pretentiousness',\n",
    "            'text_pos', 'text_neg', 'text_neu', 'text_compound',\n",
    "            'summ_pos', 'summ_neg', 'summ_neu', 'summ_compound',\n",
    "            'day', 'hour', 'words', 'wordlengths', 'exclamations',\n",
    "            'is_weekend', 'combined_sentiment', 'pos_neg_ratio',\n",
    "            'pretentious_sentiment', 'helpful_sentiment', 'excitement', 'sent_length', \n",
    "            'Product_Avg_Help', 'Product_Avg_Sent','User_Avg_Help','User_Avg_Sent', \n",
    "            'Product_helpful_sentiment', 'user_sentiment_deviation']\n",
    "\n",
    "\n",
    "X_train_select = X_train[features].copy()\n",
    "X_test_select = X_test[features].copy()\n",
    "X_submission_select = X_submission[features].copy()\n",
    "\n",
    "correlations = pd.DataFrame(X_train_select).corrwith(Y_train).abs()\n",
    "print(correlations.sort_values(ascending=False))"
   ]
  },
  {
   "cell_type": "markdown",
   "metadata": {},
   "source": [
    "# Model Creation"
   ]
  },
  {
   "cell_type": "code",
   "execution_count": 6,
   "metadata": {},
   "outputs": [],
   "source": [
    "cudf_xtrain = cudf.DataFrame.from_pandas(X_train_select).astype('float32')\n",
    "cudf_ytrain = cudf.Series((Y_train-1).astype(int))\n",
    "cudf_xtestselect=cudf.DataFrame.from_pandas(X_test_select).astype('float32')\n",
    "cudf_xsubmissionselect=cudf.DataFrame.from_pandas(X_submission_select).astype('float32')\n",
    "\n",
    "dtrain = xgb.DMatrix(data=cudf_xtrain, label=cudf_ytrain)\n",
    "dtest = xgb.DMatrix(data=cudf_xtestselect)\n",
    "dsub = xgb.DMatrix(data=cudf_xsubmissionselect)"
   ]
  },
  {
   "cell_type": "code",
   "execution_count": 7,
   "metadata": {},
   "outputs": [],
   "source": [
    "params = {\n",
    "    'device': 'cuda',   \n",
    "    'objective': 'multi:softprob', \n",
    "    'num_class': 5,   \n",
    "    'learning_rate': 0.047322699489939835, #searched\n",
    "    'max_depth': 13,\n",
    "    'random_state': 0,\n",
    "    'colsample_bytree': 0.6,\n",
    "    'min_child_weight': 10,\n",
    "}\n",
    "num_boost_round = 1000\n",
    "xgb_model = xgb.train(params, dtrain, num_boost_round=num_boost_round)\n",
    "\n",
    "Y_test_predictions_proba = xgb_model.predict(dtest)\n",
    "grd_pred = Y_test_predictions_proba.argmax(axis=1) + 1"
   ]
  },
  {
   "cell_type": "markdown",
   "metadata": {},
   "source": [
    "# Model Evaluation"
   ]
  },
  {
   "cell_type": "code",
   "execution_count": 8,
   "metadata": {},
   "outputs": [
    {
     "name": "stdout",
     "output_type": "stream",
     "text": [
      "Accuracy on testing set =  0.6333563134196523\n"
     ]
    },
    {
     "data": {
      "image/png": "[encoded data removed]",
      "text/plain": [
       "<Figure size 640x480 with 2 Axes>"
      ]
     },
     "metadata": {},
     "output_type": "display_data"
    }
   ],
   "source": [
    "# Evaluate your model on the testing set\n",
    "#pred = Forest_test_predictions.to_numpy()\n",
    "#pred = KNN_test_predictions\n",
    "pred = grd_pred\n",
    "\n",
    "print(\"Accuracy on testing set = \", accuracy_score(Y_test, pred))\n",
    "\n",
    "# Plot a confusion matrix\n",
    "cm = confusion_matrix(Y_test, pred, normalize='true')\n",
    "sns.heatmap(cm, annot=True, cmap=sns.light_palette(\"#e54\", as_cmap=True))\n",
    "plt.title('Confusion matrix of the classifier')\n",
    "plt.xlabel('Predicted')\n",
    "plt.ylabel('True')\n",
    "plt.show()"
   ]
  },
  {
   "cell_type": "markdown",
   "metadata": {},
   "source": [
    "# Create submission file"
   ]
  },
  {
   "cell_type": "code",
   "execution_count": 10,
   "metadata": {},
   "outputs": [],
   "source": [
    "# Create the submission file\n",
    "sub_proba = xgb_model.predict(dsub)\n",
    "sub_pred = sub_proba.argmax(axis=1) + 1\n",
    "\n",
    "X_submission['Score'] = sub_pred.astype(float)\n",
    "submission = X_submission[['Id', 'Score']]\n",
    "submission.to_csv(\"./data/submission.csv\", index=False)"
   ]
  }
 ],
 "metadata": {
  "kernelspec": {
   "display_name": "rapids-24.10",
   "language": "python",
   "name": "python3"
  },
  "language_info": {
   "codemirror_mode": {
    "name": "ipython",
    "version": 3
   },
   "file_extension": ".py",
   "mimetype": "text/x-python",
   "name": "python",
   "nbconvert_exporter": "python",
   "pygments_lexer": "ipython3",
   "version": "3.12.7"
  }
 },
 "nbformat": 4,
 "nbformat_minor": 2
}
